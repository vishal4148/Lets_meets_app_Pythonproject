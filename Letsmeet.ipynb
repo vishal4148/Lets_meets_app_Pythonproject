{
 "cells": [
  {
   "cell_type": "code",
   "execution_count": 2,
   "id": "630e0853",
   "metadata": {},
   "outputs": [],
   "source": [
    "  #*************************Event_organizer***************************\n",
    "class Letsmeet:\n",
    "    event_organizer ={}\n",
    "    \n",
    "    def set_event_id(self,event_id):\n",
    "        self.event_id = event_id\n",
    "        \n",
    "    def set_event_name(self,event_name):\n",
    "        self.event_name = event_name\n",
    "        \n",
    "    def set_organizer(self,organizer):\n",
    "        self.organizer = organizer\n",
    "        \n",
    "    def set_venue(self,venue):\n",
    "        self.venue = venue\n",
    "        \n",
    "    def set_description(self,description):\n",
    "        self.description = description\n",
    "        \n",
    "    def set_start_date(self,start_date):\n",
    "        self.start_date = start_date\n",
    "        \n",
    "    def set_start_time(self,start_time):\n",
    "        self.start_time = start_time\n",
    "        \n",
    "    def set_end_date(self,end_date):\n",
    "        self.end_date = end_date\n",
    "        \n",
    "    def set_end_time(self,end_time):\n",
    "        self.end_time = end_time\n",
    "        \n",
    "    def set_password(self,password):\n",
    "        self.password = password\n",
    "        \n",
    "        \n",
    "    def create_user(self):\n",
    "        Letsmeet.event_organizer[self.event_id] = {}\n",
    "        Letsmeet.event_organizer[self.event_id][self.password] = self\n",
    "        \n",
    "  \n",
    "    "
   ]
  },
  {
   "cell_type": "code",
   "execution_count": null,
   "id": "f76b1bc8",
   "metadata": {},
   "outputs": [],
   "source": []
  },
  {
   "cell_type": "code",
   "execution_count": 3,
   "id": "4713fd36",
   "metadata": {},
   "outputs": [],
   "source": [
    "import json\n",
    "js_object = json.dumps(dict1, indent = 4)"
   ]
  },
  {
   "cell_type": "code",
   "execution_count": 4,
   "id": "1442d148",
   "metadata": {},
   "outputs": [],
   "source": [
    "with open(\"Letsmeet.json\",\"w+\") as fp:\n",
    "    fp.write(js_object)"
   ]
  },
  {
   "cell_type": "code",
   "execution_count": 5,
   "id": "bc2e2fb8",
   "metadata": {},
   "outputs": [],
   "source": [
    "with open(\"Letsmeet.json\",\"r\") as fp:\n",
    "    js = json.load(fp)"
   ]
  },
  {
   "cell_type": "code",
   "execution_count": 6,
   "id": "7b01e328",
   "metadata": {},
   "outputs": [
    {
     "name": "stdout",
     "output_type": "stream",
     "text": [
      "{}\n"
     ]
    }
   ],
   "source": [
    "print(js)"
   ]
  },
  {
   "cell_type": "code",
   "execution_count": null,
   "id": "e5b6b742",
   "metadata": {},
   "outputs": [
    {
     "name": "stdout",
     "output_type": "stream",
     "text": [
      "**********************************Welcome to Letsmeet**************************************\n",
      " 1). Event Organizer. \n",
      " 2). Member \n",
      " 3). Logout 2\n"
     ]
    }
   ],
   "source": [
    "a=  print(\"**********************************Welcome to Letsmeet**************************************\")\n",
    "\n",
    "options = int(input(\" 1). Event Organizer. \\n 2). Member \\n 3). Logout \"))\n",
    "\n",
    "dict1={}\n",
    "# save date in json file\n",
    "with open(\"Letsmeet.json\",\"r\") as fp:\n",
    "    dict1= json.load(fp)\n",
    "    \n",
    "while options < 3 and options >0:\n",
    "    #**********************Event organizer  **********************\n",
    "    if options == 1:\n",
    "        \n",
    "#************************************** Create Event**********************************       \n",
    "        event_choice = int(input(\"FOR EVENT ORGANIZER \\n1)Create Event \\n2)View Event List\\n3)Update Event \\n4)Delete Event \\n5)Logout\"))\n",
    "        while event_choice < 5 and event_choice >0:   \n",
    "            if event_choice ==1:\n",
    "                user=Letsmeet()\n",
    "                user.set_event_id(input(\"Please Enter Event ID: \"))\n",
    "                user.set_event_name(input(\"Please Enter Event Name: \"))\n",
    "                user.set_organizer(input(\"Please Enter organizer: \"))\n",
    "                user.set_venue(input(\"Please Enter venue: \"))\n",
    "                user.set_description(input(\"Please Enter description: \"))\n",
    "                user.set_start_date(input(\"Please Enter Start Date: \"))\n",
    "                user.set_start_time(input(\"Please Enter Start Time: \"))\n",
    "                user.set_end_date(input(\"Please Enter End Date: \"))\n",
    "                user.set_end_time(input(\"Please Enter End Time: \"))\n",
    "                user.set_password(input(\"Please Enter Password: \"))\n",
    "                user.create_user()       \n",
    "                dict1[user.event_id] ={}\n",
    "                dict1[user.event_id][user.password]=user.__dict__\n",
    "                print(\" ***************Your Event Created Successfully****************** \")\n",
    "                \n",
    "                \n",
    " #**************************************view Event List******************************               \n",
    "            elif event_choice == 2:\n",
    "                event_id=input(\"Enter Event ID\")\n",
    "                password= list(dict1[event_id].keys())[0]\n",
    "                event_name =dict1[event_id][password]['event_name']\n",
    "                \n",
    "               \n",
    "                organizer=dict1[event_id][password]['organizer']\n",
    "                venue = dict1[event_id][password]['venue']\n",
    "                description=dict1[event_id][password]['description']\n",
    "                start_date = dict1[event_id][password]['start_date']\n",
    "                start_time = dict1[event_id][password]['start_time']\n",
    "                end_date = dict1[event_id][password]['end_date']\n",
    "                end_time = dict1[event_id][password]['end_time']\n",
    "                print(\"event_id : {}\\n event_name: {}\\n organizer: {}\\n description:{} \\nstart_date :{} \\n start_time:{} \\n end_date :{} \\n end_time :{} \". format(event_id,event_name,organizer,description,start_date,start_time,end_date,end_time))\n",
    "                \n",
    "#*******************************************update event*******************************              \n",
    "            elif event_choice == 3:\n",
    "                update = int(input(\"Please Enter the which you want to update:\\n1). start date\\n2). start time\\n3). end date\\n4). end time\"))\n",
    "                if update ==1:\n",
    "                    event_id = input(\"Please Enter The Event ID: \")\n",
    "                    password = list(dict1[event_id].keys())[0]\n",
    "                    dict1[event_id][password][\"start_date\"] = input(\"Please Enter The Start Date\")\n",
    "                elif update == 2:\n",
    "                    event_id = input(\"Please Enter The Event ID: \")\n",
    "                    password = list(dict1[event_id].keys())[0]\n",
    "                    dict1[event_id][password][\"start_time\"] = input(\"Please Enter The Start Time\")\n",
    "                elif update == 3:\n",
    "                    event_id = input(\"Please Enter The Event ID: \")\n",
    "                    password = list(dict1[event_id].keys())[0]\n",
    "                    dict1[event_id][password][\"end_date\"] = input(\"Please Enter The End Date\")\n",
    "                elif update == 4:\n",
    "                    event_id = input(\"Please Enter The Event ID: \")\n",
    "                    password = list(dict1[event_id].keys())[0]\n",
    "                    dict1[event_id][password][\"end_time\"] = input(\"Please Enter The End Time\")\n",
    "                    print(\"***************Your Event Update Successfully******************\")\n",
    "                \n",
    "                \n",
    "  #*********************************************delete event**************************************          \n",
    "            elif event_choice == 4:\n",
    "                event_id = input(\"Please Enter The Event ID: \")\n",
    "                del dict1[event_id]\n",
    "                del Letsmeet.event_organizer[event_id]\n",
    "                print(\"***************Your Event Delete Successfully****************** \")\n",
    "                \n",
    "            else:\n",
    "                break\n",
    "            event_choice = int(input(\"FOR EVENT ORGANIZER \\n 1).Create Event\\n2).View Event List\\n3).Update Event\\n4).Delete Event \\n5).Logout\"))\n",
    "  \n",
    "\n",
    " #*****************************************Member***************************************************\n",
    "    elif options == 2:\n",
    "        event_choice = int(input(\"FOR MEMBER\\n1). Event List\\n2). View Event Details\\n3). View Register Event\\n4). Update Password \\n5).Total_User_Register \\n6) Total_Seat_Available\\n7).Exit\"))\n",
    "        while event_choice<0 and event_choice>0:\n",
    "            if event_choice == 1:\n",
    "                user = Letsmeet()\n",
    "                user.event_name =dict1[event_id][password]['event_name']\n",
    "                user.event_id=input(\"Enter Event ID\")\n",
    "                user.password= list(dict1[event_id].keys())[0]\n",
    "                user.organizer=dict1[event_id][password]['organizer']\n",
    "                user.venue = dict1[event_id][password]['venue']\n",
    "                user.description=dict1[event_id][password]['description']\n",
    "                user.start_date = dict1[event_id][password]['start_date']\n",
    "                user.start_time = dict1[event_id][password]['start_time']\n",
    "                user.end_date = dict1[event_id][password]['end_date']\n",
    "                user.end_time = dict1[event_id][password]['end_time']\n",
    "                \n",
    "            elif event_choice == 2:\n",
    "                user = Letsmeet()\n",
    "                user.event_name =dict1[event_id][password]['event_name']\n",
    "                user.event_id=input(\"Enter Event ID\")\n",
    "                user.password= list(dict1[event_id].keys())[0]\n",
    "                user.organizer=dict1[event_id][password]['organizer']\n",
    "                user.venue = dict1[event_id][password]['venue']\n",
    "                user.description=dict1[event_id][password]['description']\n",
    "                user.start_date = dict1[event_id][password]['start_date']\n",
    "                user.start_time = dict1[event_id][password]['start_time']\n",
    "                user.end_date = dict1[event_id][password]['end_date']\n",
    "                user.end_time = dict1[event_id][password]['end_time']\n",
    "            else:\n",
    "                break\n",
    "                \n",
    "    elif options == 3:\n",
    "        break\n",
    "    else:\n",
    "        print(\"Invalid Input Please Try Again\")\n",
    "        options = int(input(\" 1). Event Organizer. \\n 2). Member \\n 3). Logout\"))\n",
    "                \n",
    "            \n",
    "            \n",
    "            \n",
    "            \n",
    "\n",
    "                \n",
    "                \n",
    "                \n",
    "                \n",
    "                "
   ]
  },
  {
   "cell_type": "code",
   "execution_count": null,
   "id": "dafcbdbf",
   "metadata": {},
   "outputs": [],
   "source": []
  },
  {
   "cell_type": "code",
   "execution_count": 58,
   "id": "7f297725",
   "metadata": {},
   "outputs": [
    {
     "name": "stdout",
     "output_type": "stream",
     "text": [
      "{}\n"
     ]
    }
   ],
   "source": [
    "print(js)"
   ]
  },
  {
   "cell_type": "code",
   "execution_count": null,
   "id": "7ccebfa0",
   "metadata": {},
   "outputs": [],
   "source": []
  }
 ],
 "metadata": {
  "kernelspec": {
   "display_name": "Python 3 (ipykernel)",
   "language": "python",
   "name": "python3"
  },
  "language_info": {
   "codemirror_mode": {
    "name": "ipython",
    "version": 3
   },
   "file_extension": ".py",
   "mimetype": "text/x-python",
   "name": "python",
   "nbconvert_exporter": "python",
   "pygments_lexer": "ipython3",
   "version": "3.9.7"
  }
 },
 "nbformat": 4,
 "nbformat_minor": 5
}
